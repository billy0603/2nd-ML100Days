{
 "cells": [
  {
   "cell_type": "markdown",
   "metadata": {},
   "source": [
    "## Work\n",
    "1. 請比較使用 l1, l1_l2 及不同比例下的訓練結果"
   ]
  },
  {
   "cell_type": "code",
   "execution_count": 1,
   "metadata": {},
   "outputs": [
    {
     "name": "stderr",
     "output_type": "stream",
     "text": [
      "Using TensorFlow backend.\n"
     ]
    }
   ],
   "source": [
    "import os\n",
    "import keras\n",
    "\n",
    "# Disable GPU\n",
    "os.environ[\"CUDA_VISIBLE_DEVICES\"] = \"\""
   ]
  },
  {
   "cell_type": "code",
   "execution_count": 2,
   "metadata": {},
   "outputs": [],
   "source": [
    "train, test = keras.datasets.cifar10.load_data()"
   ]
  },
  {
   "cell_type": "code",
   "execution_count": 3,
   "metadata": {},
   "outputs": [],
   "source": [
    "## 資料前處理\n",
    "def preproc_x(x, flatten=True):\n",
    "    x = x / 255.\n",
    "    if flatten:\n",
    "        x = x.reshape((len(x), -1))\n",
    "    return x\n",
    "\n",
    "def preproc_y(y, num_classes=10):\n",
    "    if y.shape[-1] == 1:\n",
    "        y = keras.utils.to_categorical(y, num_classes)\n",
    "    return y    "
   ]
  },
  {
   "cell_type": "code",
   "execution_count": 4,
   "metadata": {},
   "outputs": [],
   "source": [
    "x_train, y_train = train\n",
    "x_test, y_test = test\n",
    "\n",
    "# Preproc the inputs\n",
    "x_train = preproc_x(x_train)\n",
    "x_test = preproc_x(x_test)\n",
    "\n",
    "# Preprc the outputs\n",
    "y_train = preproc_y(y_train)\n",
    "y_test = preproc_y(y_test)"
   ]
  },
  {
   "cell_type": "code",
   "execution_count": 5,
   "metadata": {},
   "outputs": [],
   "source": [
    "from keras.regularizers import l1, l2, l1_l2\n",
    "\"\"\"\n",
    "建立神經網路，並加入 L1 或 L2\n",
    "\"\"\"\n",
    "def build_mlp(input_shape, output_units=10, num_neurons=[512, 256, 128], l1_ratio=1e-4):\n",
    "    input_layer = keras.layers.Input(input_shape)\n",
    "    \"\"\"Code Here\n",
    "    建立你的神經網路\n",
    "    \"\"\"\n",
    "    for i, n_units in enumerate(num_neurons):\n",
    "        if i == 0:\n",
    "            x = keras.layers.Dense(units=n_units, \n",
    "                                   activation=\"relu\", \n",
    "                                   name=\"hidden_layer\"+str(i+1), \n",
    "                                   kernel_regularizer=l1(l1_ratio))(input_layer)\n",
    "        else:\n",
    "            x = keras.layers.Dense(units=n_units, \n",
    "                                   activation=\"relu\", \n",
    "                                   name=\"hidden_layer\"+str(i+1),\n",
    "                                   kernel_regularizer=l1(l1_ratio))(x)\n",
    "    \n",
    "    out = keras.layers.Dense(units=output_units, activation=\"softmax\", name=\"output\")(x)\n",
    "    \n",
    "    model = keras.models.Model(inputs=[input_layer], outputs=[out])\n",
    "    \n",
    "    return model"
   ]
  },
  {
   "cell_type": "code",
   "execution_count": 6,
   "metadata": {},
   "outputs": [],
   "source": [
    "\"\"\"Code Here\n",
    "設定超參數\n",
    "\"\"\"\n",
    "LEARNING_RATE = 1e-3\n",
    "EPOCHS = 10\n",
    "BATCH_SIZE = 512\n",
    "MOMENTUM = 0.95\n",
    "L1_EXP = [1e-2, 1e-4, 1e-8, 1e-12]"
   ]
  },
  {
   "cell_type": "code",
   "execution_count": 7,
   "metadata": {
    "scrolled": true
   },
   "outputs": [
    {
     "name": "stdout",
     "output_type": "stream",
     "text": [
      "Experiment with Regulizer = 0.010000\n",
      "_________________________________________________________________\n",
      "Layer (type)                 Output Shape              Param #   \n",
      "=================================================================\n",
      "input_1 (InputLayer)         (None, 3072)              0         \n",
      "_________________________________________________________________\n",
      "hidden_layer1 (Dense)        (None, 512)               1573376   \n",
      "_________________________________________________________________\n",
      "hidden_layer2 (Dense)        (None, 256)               131328    \n",
      "_________________________________________________________________\n",
      "hidden_layer3 (Dense)        (None, 128)               32896     \n",
      "_________________________________________________________________\n",
      "output (Dense)               (None, 10)                1290      \n",
      "=================================================================\n",
      "Total params: 1,738,890\n",
      "Trainable params: 1,738,890\n",
      "Non-trainable params: 0\n",
      "_________________________________________________________________\n",
      "Train on 50000 samples, validate on 10000 samples\n",
      "Epoch 1/10\n",
      "50000/50000 [==============================] - 4s 85us/step - loss: 299.5054 - acc: 0.2257 - val_loss: 177.7350 - val_acc: 0.2858\n",
      "Epoch 2/10\n",
      "50000/50000 [==============================] - 2s 41us/step - loss: 97.6089 - acc: 0.2812 - val_loss: 41.1963 - val_acc: 0.2733\n",
      "Epoch 3/10\n",
      "50000/50000 [==============================] - 2s 41us/step - loss: 26.4968 - acc: 0.1369 - val_loss: 17.2435 - val_acc: 0.1000\n",
      "Epoch 4/10\n",
      "50000/50000 [==============================] - 2s 41us/step - loss: 11.8005 - acc: 0.1000 - val_loss: 7.3352 - val_acc: 0.1000\n",
      "Epoch 5/10\n",
      "50000/50000 [==============================] - 2s 41us/step - loss: 5.1435 - acc: 0.1000 - val_loss: 3.7694 - val_acc: 0.1000\n",
      "Epoch 6/10\n",
      "50000/50000 [==============================] - 2s 41us/step - loss: 3.1277 - acc: 0.0985 - val_loss: 2.6531 - val_acc: 0.1000\n",
      "Epoch 7/10\n",
      "50000/50000 [==============================] - 2s 41us/step - loss: 2.5105 - acc: 0.0976 - val_loss: 2.4640 - val_acc: 0.1000\n",
      "Epoch 8/10\n",
      "50000/50000 [==============================] - 2s 42us/step - loss: 2.4628 - acc: 0.0994 - val_loss: 2.4623 - val_acc: 0.1000\n",
      "Epoch 9/10\n",
      "50000/50000 [==============================] - 2s 41us/step - loss: 2.4626 - acc: 0.0982 - val_loss: 2.4625 - val_acc: 0.1000\n",
      "Epoch 10/10\n",
      "50000/50000 [==============================] - 2s 41us/step - loss: 2.4626 - acc: 0.0977 - val_loss: 2.4625 - val_acc: 0.1000\n",
      "Experiment with Regulizer = 0.000100\n",
      "_________________________________________________________________\n",
      "Layer (type)                 Output Shape              Param #   \n",
      "=================================================================\n",
      "input_1 (InputLayer)         (None, 3072)              0         \n",
      "_________________________________________________________________\n",
      "hidden_layer1 (Dense)        (None, 512)               1573376   \n",
      "_________________________________________________________________\n",
      "hidden_layer2 (Dense)        (None, 256)               131328    \n",
      "_________________________________________________________________\n",
      "hidden_layer3 (Dense)        (None, 128)               32896     \n",
      "_________________________________________________________________\n",
      "output (Dense)               (None, 10)                1290      \n",
      "=================================================================\n",
      "Total params: 1,738,890\n",
      "Trainable params: 1,738,890\n",
      "Non-trainable params: 0\n",
      "_________________________________________________________________\n",
      "Train on 50000 samples, validate on 10000 samples\n",
      "Epoch 1/10\n",
      "50000/50000 [==============================] - 2s 49us/step - loss: 6.1247 - acc: 0.2244 - val_loss: 5.9564 - val_acc: 0.2948\n",
      "Epoch 2/10\n",
      "50000/50000 [==============================] - 2s 45us/step - loss: 5.8676 - acc: 0.3275 - val_loss: 5.8014 - val_acc: 0.3480\n",
      "Epoch 3/10\n",
      "50000/50000 [==============================] - 2s 45us/step - loss: 5.7516 - acc: 0.3622 - val_loss: 5.7121 - val_acc: 0.3707\n",
      "Epoch 4/10\n",
      "50000/50000 [==============================] - 2s 42us/step - loss: 5.6684 - acc: 0.3785 - val_loss: 5.6327 - val_acc: 0.3866\n",
      "Epoch 5/10\n",
      "50000/50000 [==============================] - 2s 41us/step - loss: 5.5973 - acc: 0.3927 - val_loss: 5.5663 - val_acc: 0.3970\n",
      "Epoch 6/10\n",
      "50000/50000 [==============================] - 2s 41us/step - loss: 5.5321 - acc: 0.4034 - val_loss: 5.5020 - val_acc: 0.4122\n",
      "Epoch 7/10\n",
      "50000/50000 [==============================] - 2s 41us/step - loss: 5.4704 - acc: 0.4160 - val_loss: 5.4439 - val_acc: 0.4206\n",
      "Epoch 8/10\n",
      "50000/50000 [==============================] - 2s 42us/step - loss: 5.4122 - acc: 0.4233 - val_loss: 5.3889 - val_acc: 0.4284\n",
      "Epoch 9/10\n",
      "50000/50000 [==============================] - 2s 42us/step - loss: 5.3584 - acc: 0.4324 - val_loss: 5.3415 - val_acc: 0.4294\n",
      "Epoch 10/10\n",
      "50000/50000 [==============================] - 2s 41us/step - loss: 5.3040 - acc: 0.4393 - val_loss: 5.2892 - val_acc: 0.4418\n",
      "Experiment with Regulizer = 0.000000\n",
      "_________________________________________________________________\n",
      "Layer (type)                 Output Shape              Param #   \n",
      "=================================================================\n",
      "input_1 (InputLayer)         (None, 3072)              0         \n",
      "_________________________________________________________________\n",
      "hidden_layer1 (Dense)        (None, 512)               1573376   \n",
      "_________________________________________________________________\n",
      "hidden_layer2 (Dense)        (None, 256)               131328    \n",
      "_________________________________________________________________\n",
      "hidden_layer3 (Dense)        (None, 128)               32896     \n",
      "_________________________________________________________________\n",
      "output (Dense)               (None, 10)                1290      \n",
      "=================================================================\n",
      "Total params: 1,738,890\n",
      "Trainable params: 1,738,890\n",
      "Non-trainable params: 0\n",
      "_________________________________________________________________\n",
      "Train on 50000 samples, validate on 10000 samples\n",
      "Epoch 1/10\n",
      "50000/50000 [==============================] - 2s 49us/step - loss: 2.1367 - acc: 0.2320 - val_loss: 1.9838 - val_acc: 0.2981\n",
      "Epoch 2/10\n",
      "50000/50000 [==============================] - 2s 43us/step - loss: 1.9179 - acc: 0.3241 - val_loss: 1.8657 - val_acc: 0.3492\n",
      "Epoch 3/10\n",
      "50000/50000 [==============================] - 2s 45us/step - loss: 1.8325 - acc: 0.3567 - val_loss: 1.8036 - val_acc: 0.3684\n",
      "Epoch 4/10\n",
      "50000/50000 [==============================] - 2s 45us/step - loss: 1.7785 - acc: 0.3785 - val_loss: 1.7583 - val_acc: 0.3884\n",
      "Epoch 5/10\n",
      "50000/50000 [==============================] - 2s 45us/step - loss: 1.7367 - acc: 0.3933 - val_loss: 1.7180 - val_acc: 0.4047\n",
      "Epoch 6/10\n",
      "50000/50000 [==============================] - 2s 47us/step - loss: 1.6995 - acc: 0.4081 - val_loss: 1.6868 - val_acc: 0.4077\n",
      "Epoch 7/10\n",
      "50000/50000 [==============================] - 2s 48us/step - loss: 1.6699 - acc: 0.4167 - val_loss: 1.6630 - val_acc: 0.4166\n",
      "Epoch 8/10\n",
      "50000/50000 [==============================] - 2s 46us/step - loss: 1.6425 - acc: 0.4258 - val_loss: 1.6358 - val_acc: 0.4294\n",
      "Epoch 9/10\n",
      "50000/50000 [==============================] - 2s 44us/step - loss: 1.6168 - acc: 0.4346 - val_loss: 1.6165 - val_acc: 0.4322\n",
      "Epoch 10/10\n",
      "50000/50000 [==============================] - 2s 43us/step - loss: 1.5937 - acc: 0.4430 - val_loss: 1.5930 - val_acc: 0.4441\n",
      "Experiment with Regulizer = 0.000000\n",
      "_________________________________________________________________\n",
      "Layer (type)                 Output Shape              Param #   \n",
      "=================================================================\n",
      "input_1 (InputLayer)         (None, 3072)              0         \n",
      "_________________________________________________________________\n",
      "hidden_layer1 (Dense)        (None, 512)               1573376   \n",
      "_________________________________________________________________\n",
      "hidden_layer2 (Dense)        (None, 256)               131328    \n",
      "_________________________________________________________________\n",
      "hidden_layer3 (Dense)        (None, 128)               32896     \n",
      "_________________________________________________________________\n",
      "output (Dense)               (None, 10)                1290      \n",
      "=================================================================\n",
      "Total params: 1,738,890\n",
      "Trainable params: 1,738,890\n",
      "Non-trainable params: 0\n",
      "_________________________________________________________________\n"
     ]
    },
    {
     "name": "stdout",
     "output_type": "stream",
     "text": [
      "Train on 50000 samples, validate on 10000 samples\n",
      "Epoch 1/10\n",
      "50000/50000 [==============================] - 3s 51us/step - loss: 2.1294 - acc: 0.2336 - val_loss: 1.9881 - val_acc: 0.3006\n",
      "Epoch 2/10\n",
      "50000/50000 [==============================] - 2s 42us/step - loss: 1.9243 - acc: 0.3239 - val_loss: 1.8778 - val_acc: 0.3452\n",
      "Epoch 3/10\n",
      "50000/50000 [==============================] - 2s 42us/step - loss: 1.8424 - acc: 0.3578 - val_loss: 1.8185 - val_acc: 0.3674\n",
      "Epoch 4/10\n",
      "50000/50000 [==============================] - 2s 42us/step - loss: 1.7901 - acc: 0.3752 - val_loss: 1.7727 - val_acc: 0.3818\n",
      "Epoch 5/10\n",
      "50000/50000 [==============================] - 2s 41us/step - loss: 1.7481 - acc: 0.3899 - val_loss: 1.7319 - val_acc: 0.3984\n",
      "Epoch 6/10\n",
      "50000/50000 [==============================] - 2s 41us/step - loss: 1.7113 - acc: 0.4020 - val_loss: 1.7004 - val_acc: 0.4054\n",
      "Epoch 7/10\n",
      "50000/50000 [==============================] - 2s 41us/step - loss: 1.6806 - acc: 0.4123 - val_loss: 1.6717 - val_acc: 0.4188\n",
      "Epoch 8/10\n",
      "50000/50000 [==============================] - 2s 41us/step - loss: 1.6528 - acc: 0.4215 - val_loss: 1.6471 - val_acc: 0.4272\n",
      "Epoch 9/10\n",
      "50000/50000 [==============================] - 2s 41us/step - loss: 1.6279 - acc: 0.4305 - val_loss: 1.6223 - val_acc: 0.4322\n",
      "Epoch 10/10\n",
      "50000/50000 [==============================] - 2s 41us/step - loss: 1.6052 - acc: 0.4384 - val_loss: 1.6049 - val_acc: 0.4364\n"
     ]
    }
   ],
   "source": [
    "results = {}\n",
    "\"\"\"Code Here\n",
    "撰寫你的訓練流程並將結果用 dictionary 紀錄\n",
    "\"\"\"\n",
    "for regulizer_ratio in L1_EXP:\n",
    "    keras.backend.clear_session() # 把舊的 Graph 清掉\n",
    "    print(\"Experiment with Regulizer = %.6f\" % (regulizer_ratio))\n",
    "    model = build_mlp(input_shape=x_train.shape[1:], l1_ratio=regulizer_ratio)\n",
    "    model.summary()\n",
    "    optimizer = keras.optimizers.SGD(lr=LEARNING_RATE, nesterov=True, momentum=MOMENTUM)\n",
    "    model.compile(loss=\"categorical_crossentropy\", metrics=[\"accuracy\"], optimizer=optimizer)\n",
    "\n",
    "    model.fit(x_train, y_train, \n",
    "              epochs=EPOCHS, \n",
    "              batch_size=BATCH_SIZE, \n",
    "              validation_data=(x_test, y_test), \n",
    "              shuffle=True)\n",
    "    \n",
    "    # Collect results\n",
    "    train_loss = model.history.history[\"loss\"]\n",
    "    valid_loss = model.history.history[\"val_loss\"]\n",
    "    train_acc = model.history.history[\"acc\"]\n",
    "    valid_acc = model.history.history[\"val_acc\"]\n",
    "    \n",
    "    exp_name_tag = \"exp-l1-%s\" % str(regulizer_ratio)\n",
    "    results[exp_name_tag] = {'train-loss': train_loss,\n",
    "                             'valid-loss': valid_loss,\n",
    "                             'train-acc': train_acc,\n",
    "                             'valid-acc': valid_acc}"
   ]
  },
  {
   "cell_type": "code",
   "execution_count": 8,
   "metadata": {},
   "outputs": [
    {
     "data": {
      "image/png": "[encoded data removed]",
      "text/plain": [
       "<Figure size 576x432 with 1 Axes>"
      ]
     },
     "metadata": {
      "needs_background": "light"
     },
     "output_type": "display_data"
    },
    {
     "data": {
      "image/png": "[encoded data removed]",
      "text/plain": [
       "<Figure size 576x432 with 1 Axes>"
      ]
     },
     "metadata": {
      "needs_background": "light"
     },
     "output_type": "display_data"
    }
   ],
   "source": [
    "import matplotlib.pyplot as plt\n",
    "%matplotlib inline\n",
    "\"\"\"Code Here\n",
    "將結果繪出\n",
    "\"\"\"\n",
    "color_bar = [\"r\", \"g\", \"b\", \"y\", \"m\", \"k\"]\n",
    "\n",
    "plt.figure(figsize=(8,6))\n",
    "for i, cond in enumerate(results.keys()):\n",
    "    plt.plot(range(len(results[cond]['train-loss'])),results[cond]['train-loss'], '-', label=cond, color=color_bar[i])\n",
    "    plt.plot(range(len(results[cond]['valid-loss'])),results[cond]['valid-loss'], '--', label=cond, color=color_bar[i])\n",
    "plt.title(\"Loss\")\n",
    "plt.ylim([0, 5])\n",
    "plt.legend()\n",
    "plt.show()\n",
    "\n",
    "plt.figure(figsize=(8,6))\n",
    "for i, cond in enumerate(results.keys()):\n",
    "    plt.plot(range(len(results[cond]['train-acc'])),results[cond]['train-acc'], '-', label=cond, color=color_bar[i])\n",
    "    plt.plot(range(len(results[cond]['valid-acc'])),results[cond]['valid-acc'], '--', label=cond, color=color_bar[i])\n",
    "plt.title(\"Accuracy\")\n",
    "plt.legend()\n",
    "plt.show()"
   ]
  },
  {
   "cell_type": "code",
   "execution_count": null,
   "metadata": {},
   "outputs": [],
   "source": []
  }
 ],
 "metadata": {
  "kernelspec": {
   "display_name": "tensorflow",
   "language": "python",
   "name": "tensorflow_gpu"
  },
  "language_info": {
   "codemirror_mode": {
    "name": "ipython",
    "version": 3
   },
   "file_extension": ".py",
   "mimetype": "text/x-python",
   "name": "python",
   "nbconvert_exporter": "python",
   "pygments_lexer": "ipython3",
   "version": "3.6.8"
  }
 },
 "nbformat": 4,
 "nbformat_minor": 2
}
