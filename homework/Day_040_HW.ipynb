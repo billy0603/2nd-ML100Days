{
 "cells": [
  {
   "cell_type": "markdown",
   "metadata": {},
   "source": [
    "## [作業重點]\n",
    "使用 Sklearn 中的 Lasso, Ridge 模型，來訓練各種資料集，務必了解送進去模型訓練的**資料型態**為何，也請了解模型中各項參數的意義。\n",
    "\n",
    "機器學習的模型非常多種，但要訓練的資料多半有固定的格式，確保你了解訓練資料的格式為何，這樣在應用新模型時，就能夠最快的上手開始訓練！"
   ]
  },
  {
   "cell_type": "markdown",
   "metadata": {},
   "source": [
    "## 練習時間\n",
    "試著使用 sklearn datasets 的其他資料集 (boston, ...)，來訓練自己的線性迴歸模型，並加上適當的正則話來觀察訓練情形。"
   ]
  },
  {
   "cell_type": "code",
   "execution_count": 2,
   "metadata": {},
   "outputs": [],
   "source": [
    "from sklearn import datasets, linear_model\n",
    "from sklearn.metrics import mean_squared_error\n",
    "from sklearn.model_selection import train_test_split"
   ]
  },
  {
   "cell_type": "code",
   "execution_count": 3,
   "metadata": {},
   "outputs": [
    {
     "name": "stdout",
     "output_type": "stream",
     "text": [
      "(404, 13)\n",
      "(102, 13)\n",
      "(404,)\n",
      "(102,)\n"
     ]
    }
   ],
   "source": [
    "boston = datasets.load_boston()\n",
    "train_X = boston.data\n",
    "train_y = boston.target\n",
    "train_X, test_X, train_y, test_y = train_test_split(train_X, train_y, test_size=0.2)\n",
    "print(train_X.shape, test_X.shape, train_y.shape, test_y.shape, sep='\\n')"
   ]
  },
  {
   "cell_type": "code",
   "execution_count": 8,
   "metadata": {},
   "outputs": [
    {
     "name": "stdout",
     "output_type": "stream",
     "text": [
      "[-1.09945675e-01  4.50698385e-02  9.67583516e-03  2.64990197e+00\n",
      " -1.62504279e+01  3.67765180e+00 -4.21881527e-03 -1.50756586e+00\n",
      "  3.09437304e-01 -1.29189989e-02 -9.36982437e-01  1.07990288e-02\n",
      " -5.22566430e-01]\n",
      "linear regression:\t 19.329043600763377\n"
     ]
    }
   ],
   "source": [
    "regr = linear_model.LinearRegression()\n",
    "regr.fit(train_X, train_y)\n",
    "prediction = regr.predict(test_X)\n",
    "mse = mean_squared_error(test_y, prediction)\n",
    "print(regr.coef_)\n",
    "print('linear regression:\\t', mse)"
   ]
  },
  {
   "cell_type": "code",
   "execution_count": 10,
   "metadata": {},
   "outputs": [
    {
     "name": "stdout",
     "output_type": "stream",
     "text": [
      "[-1.09945675e-01  4.50698385e-02  9.67583516e-03  2.64990197e+00\n",
      " -1.62504279e+01  3.67765180e+00 -4.21881527e-03 -1.50756586e+00\n",
      "  3.09437304e-01 -1.29189989e-02 -9.36982437e-01  1.07990288e-02\n",
      " -5.22566430e-01]\n",
      "lasso:\t 25.73760428223181\n"
     ]
    }
   ],
   "source": [
    "lasso = linear_model.Lasso(alpha=1)\n",
    "lasso.fit(train_X, train_y)\n",
    "prediction = lasso.predict(test_X)\n",
    "mse = mean_squared_error(test_y, prediction)\n",
    "print(regr.coef_)\n",
    "print('lasso:\\t', mse)"
   ]
  },
  {
   "cell_type": "code",
   "execution_count": 13,
   "metadata": {},
   "outputs": [
    {
     "name": "stdout",
     "output_type": "stream",
     "text": [
      "[-1.09945675e-01  4.50698385e-02  9.67583516e-03  2.64990197e+00\n",
      " -1.62504279e+01  3.67765180e+00 -4.21881527e-03 -1.50756586e+00\n",
      "  3.09437304e-01 -1.29189989e-02 -9.36982437e-01  1.07990288e-02\n",
      " -5.22566430e-01]\n",
      "lasso:\t 25.73760428223181\n"
     ]
    }
   ],
   "source": [
    "ridge = linear_model.Ridge(alpha=1.0)\n",
    "ridge.fit(train_X, train_y)\n",
    "y_pred = regr.predict(test_X)\n",
    "mse = mean_squared_error(test_y, prediction)\n",
    "print(regr.coef_)\n",
    "print('lasso:\\t', mse)"
   ]
  },
  {
   "cell_type": "code",
   "execution_count": null,
   "metadata": {},
   "outputs": [],
   "source": []
  }
 ],
 "metadata": {
  "kernelspec": {
   "display_name": "Python 3",
   "language": "python",
   "name": "python3"
  },
  "language_info": {
   "codemirror_mode": {
    "name": "ipython",
    "version": 3
   },
   "file_extension": ".py",
   "mimetype": "text/x-python",
   "name": "python",
   "nbconvert_exporter": "python",
   "pygments_lexer": "ipython3",
   "version": "3.7.1"
  }
 },
 "nbformat": 4,
 "nbformat_minor": 2
}
