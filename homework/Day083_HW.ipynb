{
 "cells": [
  {
   "cell_type": "markdown",
   "metadata": {},
   "source": [
    "## Work\n",
    "1. 試比較有 BN 在 Batch_size = 2, 16, 32, 128, 256 下的差異\n",
    "2. 請嘗試將 BN 放在 Activation 之前，並比較訓練結果\n",
    "3. 請於 BN 放在 Input Layer 後，並比較結果"
   ]
  },
  {
   "cell_type": "code",
   "execution_count": 1,
   "metadata": {},
   "outputs": [
    {
     "name": "stderr",
     "output_type": "stream",
     "text": [
      "Using TensorFlow backend.\n"
     ]
    }
   ],
   "source": [
    "import os\n",
    "import keras\n",
    "import itertools\n",
    "# Disable GPU\n",
    "os.environ[\"CUDA_VISIBLE_DEVICES\"] = \"\""
   ]
  },
  {
   "cell_type": "code",
   "execution_count": 2,
   "metadata": {},
   "outputs": [],
   "source": [
    "train, test = keras.datasets.cifar10.load_data()"
   ]
  },
  {
   "cell_type": "code",
   "execution_count": 3,
   "metadata": {},
   "outputs": [],
   "source": [
    "## 資料前處理\n",
    "def preproc_x(x, flatten=True):\n",
    "    x = x / 255.\n",
    "    if flatten:\n",
    "        x = x.reshape((len(x), -1))\n",
    "    return x\n",
    "\n",
    "def preproc_y(y, num_classes=10):\n",
    "    if y.shape[-1] == 1:\n",
    "        y = keras.utils.to_categorical(y, num_classes)\n",
    "    return y    "
   ]
  },
  {
   "cell_type": "code",
   "execution_count": 4,
   "metadata": {},
   "outputs": [],
   "source": [
    "x_train, y_train = train\n",
    "x_test, y_test = test\n",
    "\n",
    "# Preproc the inputs\n",
    "x_train = preproc_x(x_train)\n",
    "x_test = preproc_x(x_test)\n",
    "\n",
    "# Preprc the outputs\n",
    "y_train = preproc_y(y_train)\n",
    "y_test = preproc_y(y_test)"
   ]
  },
  {
   "cell_type": "code",
   "execution_count": 5,
   "metadata": {},
   "outputs": [],
   "source": [
    "from keras.layers import BatchNormalization\n",
    "\n",
    "\"\"\"\n",
    "建立神經網路，並加入 BN layer\n",
    "\"\"\"\n",
    "def build_mlp(input_shape, output_units=10, num_neurons=[512, 256, 128]):\n",
    "    \"\"\"Code Here\n",
    "    建立你的神經網路\n",
    "    \"\"\"\n",
    "    input_layer = keras.layers.Input(input_shape)\n",
    "    \n",
    "    for i, n_units in enumerate(num_neurons):\n",
    "        if i == 0:\n",
    "            x = keras.layers.Dense(units=n_units, \n",
    "                                   activation=\"relu\", \n",
    "                                   name=\"hidden_layer\"+str(i+1))(input_layer)\n",
    "            x = BatchNormalization()(x)\n",
    "        else:\n",
    "            x = keras.layers.Dense(units=n_units, \n",
    "                                   activation=\"relu\", \n",
    "                                   name=\"hidden_layer\"+str(i+1))(x)\n",
    "            x = BatchNormalization()(x)\n",
    "    \n",
    "    out = keras.layers.Dense(units=output_units, activation=\"softmax\", name=\"output\")(x)\n",
    "    \n",
    "    model = keras.models.Model(inputs=[input_layer], outputs=[out])    \n",
    "    return model"
   ]
  },
  {
   "cell_type": "code",
   "execution_count": 6,
   "metadata": {},
   "outputs": [],
   "source": [
    "\"\"\"Code Here\n",
    "設定超參數\n",
    "\"\"\"\n",
    "LEARNING_RATE = 1e-3\n",
    "EPOCHS = 50\n",
    "# BATCH_SIZE = [2, 16, 32, 128, 256]\n",
    "BATCH_SIZE = [256]\n",
    "MOMENTUM = 0.95"
   ]
  },
  {
   "cell_type": "code",
   "execution_count": 7,
   "metadata": {
    "scrolled": true
   },
   "outputs": [
    {
     "name": "stdout",
     "output_type": "stream",
     "text": [
      "Experiment with BATCH_SIZE = 256.000000\n",
      "_________________________________________________________________\n",
      "Layer (type)                 Output Shape              Param #   \n",
      "=================================================================\n",
      "input_1 (InputLayer)         (None, 3072)              0         \n",
      "_________________________________________________________________\n",
      "hidden_layer1 (Dense)        (None, 512)               1573376   \n",
      "_________________________________________________________________\n",
      "batch_normalization_1 (Batch (None, 512)               2048      \n",
      "_________________________________________________________________\n",
      "hidden_layer2 (Dense)        (None, 256)               131328    \n",
      "_________________________________________________________________\n",
      "batch_normalization_2 (Batch (None, 256)               1024      \n",
      "_________________________________________________________________\n",
      "hidden_layer3 (Dense)        (None, 128)               32896     \n",
      "_________________________________________________________________\n",
      "batch_normalization_3 (Batch (None, 128)               512       \n",
      "_________________________________________________________________\n",
      "output (Dense)               (None, 10)                1290      \n",
      "=================================================================\n",
      "Total params: 1,742,474\n",
      "Trainable params: 1,740,682\n",
      "Non-trainable params: 1,792\n",
      "_________________________________________________________________\n",
      "Train on 50000 samples, validate on 10000 samples\n",
      "Epoch 1/50\n",
      "50000/50000 [==============================] - 10s 201us/step - loss: 1.7290 - acc: 0.3936 - val_loss: 1.6486 - val_acc: 0.4148\n",
      "Epoch 2/50\n",
      "50000/50000 [==============================] - 7s 145us/step - loss: 1.4881 - acc: 0.4756 - val_loss: 1.5386 - val_acc: 0.4561\n",
      "Epoch 3/50\n",
      "50000/50000 [==============================] - 7s 149us/step - loss: 1.4054 - acc: 0.5041 - val_loss: 1.5647 - val_acc: 0.4481\n",
      "Epoch 4/50\n",
      "50000/50000 [==============================] - 7s 145us/step - loss: 1.3450 - acc: 0.5242 - val_loss: 1.5366 - val_acc: 0.4583\n",
      "Epoch 5/50\n",
      "50000/50000 [==============================] - 7s 148us/step - loss: 1.2967 - acc: 0.5405 - val_loss: 1.5610 - val_acc: 0.4514\n",
      "Epoch 6/50\n",
      "50000/50000 [==============================] - 8s 152us/step - loss: 1.2509 - acc: 0.5579 - val_loss: 1.5126 - val_acc: 0.4632\n",
      "Epoch 7/50\n",
      "50000/50000 [==============================] - 7s 148us/step - loss: 1.2186 - acc: 0.5689 - val_loss: 1.4755 - val_acc: 0.4840\n",
      "Epoch 8/50\n",
      "50000/50000 [==============================] - 7s 146us/step - loss: 1.1748 - acc: 0.5847 - val_loss: 1.4508 - val_acc: 0.4941\n",
      "Epoch 9/50\n",
      "50000/50000 [==============================] - 7s 149us/step - loss: 1.1427 - acc: 0.5948 - val_loss: 1.5017 - val_acc: 0.4775\n",
      "Epoch 10/50\n",
      "50000/50000 [==============================] - 7s 150us/step - loss: 1.1256 - acc: 0.6023 - val_loss: 1.5502 - val_acc: 0.4692\n",
      "Epoch 11/50\n",
      "50000/50000 [==============================] - 7s 147us/step - loss: 1.1073 - acc: 0.6091 - val_loss: 1.5060 - val_acc: 0.4790\n",
      "Epoch 12/50\n",
      "50000/50000 [==============================] - 7s 150us/step - loss: 1.0851 - acc: 0.6153 - val_loss: 1.5429 - val_acc: 0.4749\n",
      "Epoch 13/50\n",
      "50000/50000 [==============================] - 8s 152us/step - loss: 1.0626 - acc: 0.6250 - val_loss: 1.5247 - val_acc: 0.4662\n",
      "Epoch 14/50\n",
      "50000/50000 [==============================] - 8s 152us/step - loss: 1.0275 - acc: 0.6372 - val_loss: 1.5592 - val_acc: 0.4687\n",
      "Epoch 15/50\n",
      "50000/50000 [==============================] - 8s 168us/step - loss: 0.9971 - acc: 0.6480 - val_loss: 1.5145 - val_acc: 0.4900\n",
      "Epoch 16/50\n",
      "50000/50000 [==============================] - 8s 166us/step - loss: 0.9814 - acc: 0.6514 - val_loss: 1.5153 - val_acc: 0.4902\n",
      "Epoch 17/50\n",
      "50000/50000 [==============================] - 8s 164us/step - loss: 0.9567 - acc: 0.6607 - val_loss: 1.6250 - val_acc: 0.4737\n",
      "Epoch 18/50\n",
      "50000/50000 [==============================] - 8s 155us/step - loss: 0.9327 - acc: 0.6693 - val_loss: 1.5814 - val_acc: 0.4724\n",
      "Epoch 19/50\n",
      "50000/50000 [==============================] - 7s 149us/step - loss: 0.9160 - acc: 0.6757 - val_loss: 1.6676 - val_acc: 0.4563\n",
      "Epoch 20/50\n",
      "50000/50000 [==============================] - 7s 150us/step - loss: 0.8948 - acc: 0.6816 - val_loss: 1.7728 - val_acc: 0.4391\n",
      "Epoch 21/50\n",
      "50000/50000 [==============================] - 8s 151us/step - loss: 0.8725 - acc: 0.6920 - val_loss: 1.6105 - val_acc: 0.4700\n",
      "Epoch 22/50\n",
      "50000/50000 [==============================] - 7s 148us/step - loss: 0.8671 - acc: 0.6922 - val_loss: 1.5297 - val_acc: 0.4975\n",
      "Epoch 23/50\n",
      "50000/50000 [==============================] - 7s 148us/step - loss: 0.8447 - acc: 0.6986 - val_loss: 1.5774 - val_acc: 0.4961\n",
      "Epoch 24/50\n",
      "50000/50000 [==============================] - 7s 149us/step - loss: 0.8338 - acc: 0.7035 - val_loss: 1.7409 - val_acc: 0.4567\n",
      "Epoch 25/50\n",
      "50000/50000 [==============================] - 7s 149us/step - loss: 0.8256 - acc: 0.7065 - val_loss: 1.6795 - val_acc: 0.4767\n",
      "Epoch 26/50\n",
      "50000/50000 [==============================] - 7s 147us/step - loss: 0.8042 - acc: 0.7151 - val_loss: 1.6835 - val_acc: 0.4805\n",
      "Epoch 27/50\n",
      "50000/50000 [==============================] - 7s 148us/step - loss: 0.7849 - acc: 0.7198 - val_loss: 1.7172 - val_acc: 0.4775\n",
      "Epoch 28/50\n",
      "50000/50000 [==============================] - 8s 151us/step - loss: 0.7735 - acc: 0.7254 - val_loss: 1.6198 - val_acc: 0.4847\n",
      "Epoch 29/50\n",
      "50000/50000 [==============================] - 7s 149us/step - loss: 0.7651 - acc: 0.7273 - val_loss: 1.7536 - val_acc: 0.4710\n",
      "Epoch 30/50\n",
      "50000/50000 [==============================] - 7s 149us/step - loss: 0.7458 - acc: 0.7340 - val_loss: 1.6748 - val_acc: 0.4864\n",
      "Epoch 31/50\n",
      "50000/50000 [==============================] - 7s 147us/step - loss: 0.7254 - acc: 0.7412 - val_loss: 1.7045 - val_acc: 0.4751\n",
      "Epoch 32/50\n",
      "50000/50000 [==============================] - 7s 148us/step - loss: 0.7173 - acc: 0.7444 - val_loss: 2.0545 - val_acc: 0.4327\n",
      "Epoch 33/50\n",
      "50000/50000 [==============================] - 8s 150us/step - loss: 0.7099 - acc: 0.7452 - val_loss: 1.7982 - val_acc: 0.4705\n",
      "Epoch 34/50\n",
      "50000/50000 [==============================] - 7s 148us/step - loss: 0.6880 - acc: 0.7541 - val_loss: 1.7765 - val_acc: 0.4766\n",
      "Epoch 35/50\n",
      "50000/50000 [==============================] - 7s 147us/step - loss: 0.6738 - acc: 0.7603 - val_loss: 1.7656 - val_acc: 0.4744\n",
      "Epoch 36/50\n",
      "50000/50000 [==============================] - 8s 150us/step - loss: 0.6632 - acc: 0.7610 - val_loss: 1.7861 - val_acc: 0.4850\n",
      "Epoch 37/50\n",
      "50000/50000 [==============================] - 7s 146us/step - loss: 0.6496 - acc: 0.7685 - val_loss: 1.8458 - val_acc: 0.4624\n",
      "Epoch 38/50\n",
      "50000/50000 [==============================] - 7s 148us/step - loss: 0.6303 - acc: 0.7738 - val_loss: 1.8640 - val_acc: 0.4603\n",
      "Epoch 39/50\n",
      "50000/50000 [==============================] - 7s 148us/step - loss: 0.6156 - acc: 0.7794 - val_loss: 1.9587 - val_acc: 0.4650\n",
      "Epoch 40/50\n",
      "50000/50000 [==============================] - 7s 148us/step - loss: 0.6042 - acc: 0.7832 - val_loss: 1.8262 - val_acc: 0.4977\n",
      "Epoch 41/50\n",
      "50000/50000 [==============================] - 7s 148us/step - loss: 0.5904 - acc: 0.7863 - val_loss: 1.9630 - val_acc: 0.4633\n",
      "Epoch 42/50\n",
      "50000/50000 [==============================] - 7s 149us/step - loss: 0.5780 - acc: 0.7952 - val_loss: 1.9005 - val_acc: 0.4812\n",
      "Epoch 43/50\n",
      "50000/50000 [==============================] - 7s 145us/step - loss: 0.5742 - acc: 0.7953 - val_loss: 1.9561 - val_acc: 0.4730\n",
      "Epoch 44/50\n",
      "50000/50000 [==============================] - 8s 153us/step - loss: 0.5485 - acc: 0.8050 - val_loss: 2.0097 - val_acc: 0.4603\n",
      "Epoch 45/50\n",
      "50000/50000 [==============================] - 8s 150us/step - loss: 0.5469 - acc: 0.8047 - val_loss: 1.9862 - val_acc: 0.4754\n",
      "Epoch 46/50\n",
      "50000/50000 [==============================] - 8s 151us/step - loss: 0.5323 - acc: 0.8100 - val_loss: 1.8663 - val_acc: 0.4887\n",
      "Epoch 47/50\n",
      "50000/50000 [==============================] - 7s 149us/step - loss: 0.5154 - acc: 0.8151 - val_loss: 2.1168 - val_acc: 0.4612\n",
      "Epoch 48/50\n",
      "50000/50000 [==============================] - 7s 146us/step - loss: 0.5116 - acc: 0.8168 - val_loss: 1.8933 - val_acc: 0.4968\n",
      "Epoch 49/50\n"
     ]
    },
    {
     "name": "stdout",
     "output_type": "stream",
     "text": [
      "50000/50000 [==============================] - 7s 149us/step - loss: 0.5050 - acc: 0.8191 - val_loss: 2.0435 - val_acc: 0.4783\n",
      "Epoch 50/50\n",
      "50000/50000 [==============================] - 8s 151us/step - loss: 0.4965 - acc: 0.8228 - val_loss: 2.0827 - val_acc: 0.4873\n"
     ]
    }
   ],
   "source": [
    "results = {}\n",
    "\"\"\"Code Here\n",
    "撰寫你的訓練流程並將結果用 dictionary 紀錄\n",
    "\"\"\"\n",
    "for bs in itertools.product(BATCH_SIZE):\n",
    "    keras.backend.clear_session() # 把舊的 Graph 清掉\n",
    "    print(\"Experiment with BATCH_SIZE = %.6f\" % (bs))\n",
    "    model = build_mlp(input_shape=x_train.shape[1:])\n",
    "    model.summary()\n",
    "    \n",
    "    optimizer = keras.optimizers.SGD(lr=LEARNING_RATE, nesterov=True, momentum=MOMENTUM)\n",
    "    model.compile(loss=\"categorical_crossentropy\", metrics=[\"accuracy\"], optimizer=optimizer)\n",
    "\n",
    "    model.fit(x_train, y_train, \n",
    "              epochs=EPOCHS, \n",
    "              batch_size=64, \n",
    "              validation_data=(x_test, y_test), \n",
    "              shuffle=True)\n",
    "    \n",
    "    # Collect results\n",
    "    train_loss = model.history.history[\"loss\"]\n",
    "    valid_loss = model.history.history[\"val_loss\"]\n",
    "    train_acc = model.history.history[\"acc\"]\n",
    "    valid_acc = model.history.history[\"val_acc\"]\n",
    "    \n",
    "    exp_name_tag = \"exp-bs-%s\" % (str(bs))\n",
    "    results[exp_name_tag] = {'train-loss': train_loss,\n",
    "                             'valid-loss': valid_loss,\n",
    "                             'train-acc': train_acc,\n",
    "                             'valid-acc': valid_acc}"
   ]
  },
  {
   "cell_type": "code",
   "execution_count": 8,
   "metadata": {},
   "outputs": [
    {
     "data": {
      "image/png": "[encoded data removed]",
      "text/plain": [
       "<Figure size 576x432 with 1 Axes>"
      ]
     },
     "metadata": {
      "needs_background": "light"
     },
     "output_type": "display_data"
    },
    {
     "data": {
      "image/png": "[encoded data removed]",
      "text/plain": [
       "<Figure size 576x432 with 1 Axes>"
      ]
     },
     "metadata": {
      "needs_background": "light"
     },
     "output_type": "display_data"
    }
   ],
   "source": [
    "import matplotlib.pyplot as plt\n",
    "%matplotlib inline\n",
    "\"\"\"Code Here\n",
    "將結果繪出\n",
    "\"\"\"\n",
    "NUM_COLORS = len(results.keys())\n",
    "cm = plt.get_cmap('gist_rainbow')\n",
    "color_bar = [cm(1.*i/NUM_COLORS) for i in range(NUM_COLORS)]\n",
    "\n",
    "plt.figure(figsize=(8,6))\n",
    "for i, cond in enumerate(results.keys()):\n",
    "    plt.plot(range(len(results[cond]['train-loss'])),results[cond]['train-loss'], '-', label=cond, color=color_bar[i])\n",
    "    plt.plot(range(len(results[cond]['valid-loss'])),results[cond]['valid-loss'], '--', label=cond, color=color_bar[i])\n",
    "plt.title(\"Loss\")\n",
    "plt.legend(loc='center left', bbox_to_anchor=(1, 0.5))\n",
    "plt.show()\n",
    "\n",
    "plt.figure(figsize=(8,6))\n",
    "for i, cond in enumerate(results.keys()):\n",
    "    plt.plot(range(len(results[cond]['train-acc'])),results[cond]['train-acc'], '-', label=cond, color=color_bar[i])\n",
    "    plt.plot(range(len(results[cond]['valid-acc'])),results[cond]['valid-acc'], '--', label=cond, color=color_bar[i])\n",
    "plt.title(\"Accuracy\")\n",
    "plt.legend(loc='center left', bbox_to_anchor=(1, 0.5))\n",
    "plt.show()"
   ]
  },
  {
   "cell_type": "code",
   "execution_count": null,
   "metadata": {},
   "outputs": [],
   "source": []
  }
 ],
 "metadata": {
  "kernelspec": {
   "display_name": "tensorflow",
   "language": "python",
   "name": "tensorflow_gpu"
  },
  "language_info": {
   "codemirror_mode": {
    "name": "ipython",
    "version": 3
   },
   "file_extension": ".py",
   "mimetype": "text/x-python",
   "name": "python",
   "nbconvert_exporter": "python",
   "pygments_lexer": "ipython3",
   "version": "3.6.8"
  }
 },
 "nbformat": 4,
 "nbformat_minor": 2
}
